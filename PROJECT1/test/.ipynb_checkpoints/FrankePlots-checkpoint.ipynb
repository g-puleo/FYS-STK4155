{
 "cells": [
  {
   "cell_type": "markdown",
   "id": "edbb2b7a-6364-4ac9-9108-c2c17ba23981",
   "metadata": {},
   "source": [
    "### Test of codes using the Franke function\n",
    "\n",
    "First import necessary modules:"
   ]
  },
  {
   "cell_type": "code",
   "execution_count": null,
   "id": "406bb11a-59ff-40ab-bc7e-ac8dc9f0aefe",
   "metadata": {},
   "outputs": [],
   "source": [
    "imprt plotting_functions as plotfnc\n",
    "import franke_fit as ff\n",
    "import numpy as np\n",
    "import matplotlib.pyplot as plt\n",
    "import utils"
   ]
  },
  {
   "cell_type": "code",
   "execution_count": null,
   "id": "9de58af7-e1a1-4416-8ecb-f88349f2cfe6",
   "metadata": {},
   "outputs": [],
   "source": [
    "methods = [OLS, Ridge, Lasso]\n",
    "\n",
    "#\n",
    "np.random.seed(133)\n",
    "\n",
    "# Make data.\n",
    "Nx_ = 16\n",
    "Ny_ = 16\n",
    "maxdeg = 12\n",
    "#generate x,y data from uniform distribution\n",
    "x__ = np.random.rand(Nx_, 1)\n",
    "y__ = np.random.rand(Ny_, 1)\n",
    "x_, y_ = np.meshgrid(x__,y__)\n",
    "z_ = (utils.FrankeFunction(x_, y_) + 0.1*np.random.randn(Nx_,Ny_)).reshape(-1,1)"
   ]
  }
 ],
 "metadata": {
  "kernelspec": {
   "display_name": "Python 3",
   "language": "python",
   "name": "python3"
  },
  "language_info": {
   "codemirror_mode": {
    "name": "ipython",
    "version": 3
   },
   "file_extension": ".py",
   "mimetype": "text/x-python",
   "name": "python",
   "nbconvert_exporter": "python",
   "pygments_lexer": "ipython3",
   "version": "3.8.8"
  }
 },
 "nbformat": 4,
 "nbformat_minor": 5
}
