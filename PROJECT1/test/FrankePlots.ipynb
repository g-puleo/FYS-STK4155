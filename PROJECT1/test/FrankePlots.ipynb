{
 "cells": [
  {
   "cell_type": "markdown",
   "id": "edbb2b7a-6364-4ac9-9108-c2c17ba23981",
   "metadata": {},
   "source": [
    "### Test of codes using the Franke function\n",
    "\n",
    "First import necessary modules:"
   ]
  },
  {
   "cell_type": "code",
   "execution_count": 4,
   "id": "406bb11a-59ff-40ab-bc7e-ac8dc9f0aefe",
   "metadata": {},
   "outputs": [
    {
     "ename": "ModuleNotFoundError",
     "evalue": "No module named 'plotting_functions'",
     "output_type": "error",
     "traceback": [
      "\u001b[0;31m---------------------------------------------------------------------------\u001b[0m",
      "\u001b[0;31mModuleNotFoundError\u001b[0m                       Traceback (most recent call last)",
      "\u001b[0;32m<ipython-input-4-4c3dcd1dba76>\u001b[0m in \u001b[0;36m<module>\u001b[0;34m\u001b[0m\n\u001b[0;32m----> 1\u001b[0;31m \u001b[0;32mimport\u001b[0m \u001b[0mplotting_functions\u001b[0m \u001b[0;32mas\u001b[0m \u001b[0mplotfnc\u001b[0m\u001b[0;34m\u001b[0m\u001b[0;34m\u001b[0m\u001b[0m\n\u001b[0m\u001b[1;32m      2\u001b[0m \u001b[0;32mimport\u001b[0m \u001b[0mfranke_fit\u001b[0m \u001b[0;32mas\u001b[0m \u001b[0mff\u001b[0m\u001b[0;34m\u001b[0m\u001b[0;34m\u001b[0m\u001b[0m\n\u001b[1;32m      3\u001b[0m \u001b[0;32mimport\u001b[0m \u001b[0mnumpy\u001b[0m \u001b[0;32mas\u001b[0m \u001b[0mnp\u001b[0m\u001b[0;34m\u001b[0m\u001b[0;34m\u001b[0m\u001b[0m\n\u001b[1;32m      4\u001b[0m \u001b[0;32mimport\u001b[0m \u001b[0mmatplotlib\u001b[0m\u001b[0;34m.\u001b[0m\u001b[0mpyplot\u001b[0m \u001b[0;32mas\u001b[0m \u001b[0mplt\u001b[0m\u001b[0;34m\u001b[0m\u001b[0;34m\u001b[0m\u001b[0m\n\u001b[1;32m      5\u001b[0m \u001b[0;32mimport\u001b[0m \u001b[0mutils\u001b[0m\u001b[0;34m\u001b[0m\u001b[0;34m\u001b[0m\u001b[0m\n",
      "\u001b[0;31mModuleNotFoundError\u001b[0m: No module named 'plotting_functions'"
     ]
    }
   ],
   "source": [
    "import numpy as np\n",
    "import matplotlib.pyplot as plt\n",
    "import os, sys\n",
    "#make sure we can import modules from the same folder where the file is\n",
    "import os, sys\n",
    "sys.path.append(os.path.join(os.path.dirname(__file__), \"../\"))\n",
    "sys.path.append(os.path.dirname(__file__))\n",
    "import plotting_functions as plotfnc\n",
    "import franke_fit as ff\n",
    "import utils"
   ]
  },
  {
   "cell_type": "markdown",
   "id": "752e74b0-e106-487c-9c47-81a27cea175c",
   "metadata": {},
   "source": [
    "Generation of the dataset:"
   ]
  },
  {
   "cell_type": "code",
   "execution_count": null,
   "id": "9de58af7-e1a1-4416-8ecb-f88349f2cfe6",
   "metadata": {},
   "outputs": [],
   "source": [
    "#this list will be used to loop through different optimization methods\n",
    "methods = [OLS, Ridge, Lasso]\n",
    "\n",
    "#seed RNG to reproduce results\n",
    "np.random.seed(133)\n",
    "\n",
    "# Make dataset.\n",
    "Nx_ = 16\n",
    "Ny_ = 16\n",
    "\n",
    "#maximum polynomial degree\n",
    "maxdeg = 12\n",
    "\n",
    "#generate x,y data from uniform distribution in [0,1]\n",
    "x__ = np.random.rand(Nx_, 1)\n",
    "y__ = np.random.rand(Ny_, 1)\n",
    "x_, y_ = np.meshgrid(x__,y__)\n",
    "#generate target data adding gaussian noise\n",
    "z_ = (utils.FrankeFunction(x_, y_) + 0.1*np.random.randn(Nx_,Ny_)).reshape(-1,1)"
   ]
  },
  {
   "cell_type": "markdown",
   "id": "6530995b-9604-4b9b-b580-dc5fdf79834f",
   "metadata": {},
   "source": [
    "Study of MSE and $R^2$ score as function of the polynomial degree, using OLS"
   ]
  },
  {
   "cell_type": "code",
   "execution_count": null,
   "id": "37e4b795-58b3-4dcd-b83f-f5d6a35b93c6",
   "metadata": {},
   "outputs": [],
   "source": [
    "degrees_list, MSE_train_list, MSE_test_list, _, _, _, R2_train_list, R2_test_list, _ \\\n",
    "= Solver(x_, y_, z_, Nx_, Ny_, OLS, lamb = 0, useBootstrap=False, useCrossval=False, maxdegree = maxdeg)\n",
    "\n",
    "plotfnc.MSE_R2_plot(degrees_list, MSE_train_list, MSE_test_list, R2_train_list, R2_test_list, savefig = True)"
   ]
  }
 ],
 "metadata": {
  "kernelspec": {
   "display_name": "Python 3",
   "language": "python",
   "name": "python3"
  },
  "language_info": {
   "codemirror_mode": {
    "name": "ipython",
    "version": 3
   },
   "file_extension": ".py",
   "mimetype": "text/x-python",
   "name": "python",
   "nbconvert_exporter": "python",
   "pygments_lexer": "ipython3",
   "version": "3.8.8"
  }
 },
 "nbformat": 4,
 "nbformat_minor": 5
}
